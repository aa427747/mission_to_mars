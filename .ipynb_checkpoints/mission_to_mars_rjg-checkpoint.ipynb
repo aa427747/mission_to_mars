{
 "cells": [
  {
   "cell_type": "code",
   "execution_count": 1,
   "metadata": {},
   "outputs": [],
   "source": [
    "import pandas as pd\n",
    "from bs4 import BeautifulSoup\n",
    "import requests\n",
    "from splinter import Browser\n",
    "import time"
   ]
  },
  {
   "cell_type": "markdown",
   "metadata": {},
   "source": [
    "# NASA Mars News"
   ]
  },
  {
   "cell_type": "code",
   "execution_count": 2,
   "metadata": {},
   "outputs": [],
   "source": [
    "# URL of page to be scraped\n",
    "url = 'https://mars.nasa.gov/news/'\n",
    "# Retrieve page with the requests module\n",
    "response = requests.get(url)\n",
    "#print(response)\n",
    "# Create BeautifulSoup object; parse with 'html.parser'\n",
    "soup = BeautifulSoup(response.text, 'html.parser')\n",
    "# Examine the results, then determine element that contains sought info\n",
    "#print(soup.prettify())"
   ]
  },
  {
   "cell_type": "code",
   "execution_count": 3,
   "metadata": {},
   "outputs": [],
   "source": [
    "# results are returned as an iterable list\n",
    "#results = soup.find_all('div', class_=\"image_and_description_container\")\n",
    "content_titles = soup.find_all('div', class_=\"content_title\")"
   ]
  },
  {
   "cell_type": "code",
   "execution_count": 4,
   "metadata": {},
   "outputs": [
    {
     "name": "stdout",
     "output_type": "stream",
     "text": [
      "['NASA Garners 7 Webby Award Nominations']\n"
     ]
    }
   ],
   "source": [
    "news_title = []\n",
    "\n",
    "for titles in content_titles:\n",
    "        # Identify and return title of listing\n",
    "        if (titles.a):\n",
    "            if (titles.a.text):\n",
    "                news_title.append(titles.text)\n",
    "\n",
    "#print(news_title[0])\n",
    "news_title = news_title[0]\n",
    "news_title = news_title.replace('\\n', '')\n",
    "news_title = [(news_title)]\n",
    "print(news_title)"
   ]
  },
  {
   "cell_type": "code",
   "execution_count": 5,
   "metadata": {},
   "outputs": [],
   "source": [
    "# results are returned as an iterable list\n",
    "news_para = soup.find_all('div', class_=\"rollover_description_inner\")"
   ]
  },
  {
   "cell_type": "code",
   "execution_count": 6,
   "metadata": {},
   "outputs": [
    {
     "name": "stdout",
     "output_type": "stream",
     "text": [
      "['Nominees include four JPL projects: the solar system and climate websites, InSight social media, and a 360-degree Earth video. Public voting closes April 18, 2019.']\n"
     ]
    }
   ],
   "source": [
    "news_desc = []\n",
    "\n",
    "for result in news_para:\n",
    "    news_desc.append(result.text)\n",
    "#    title = result.find('div', class_=\"rollover_description_inner\")\n",
    "#print(news_desc)\n",
    "news_desc = news_desc[0]\n",
    "news_desc = news_desc.replace('\\n', '')\n",
    "news_desc = [(news_desc)]\n",
    "print(news_desc)"
   ]
  },
  {
   "cell_type": "code",
   "execution_count": null,
   "metadata": {},
   "outputs": [],
   "source": []
  },
  {
   "cell_type": "markdown",
   "metadata": {},
   "source": [
    "# JPL Mars Space Images - Featured Image"
   ]
  },
  {
   "cell_type": "code",
   "execution_count": null,
   "metadata": {},
   "outputs": [],
   "source": []
  },
  {
   "cell_type": "code",
   "execution_count": 7,
   "metadata": {},
   "outputs": [
    {
     "name": "stdout",
     "output_type": "stream",
     "text": [
      "['https://www.jpl.nasa.gov/spaceimages/images/largesize/PIA22892_hires.jpg']\n"
     ]
    },
    {
     "data": {
      "text/plain": [
       "<bound method BaseWebDriver.quit of <splinter.driver.webdriver.chrome.WebDriver object at 0x00000209810E5780>>"
      ]
     },
     "execution_count": 7,
     "metadata": {},
     "output_type": "execute_result"
    }
   ],
   "source": [
    "executable_path = {\"executable_path\": \"c:/Users/aa11717/Documents/chromedriver\"}\n",
    "browser = Browser(\"chrome\", **executable_path, headless=False)\n",
    "\n",
    "# URL of page to be scraped\n",
    "url = 'https://www.jpl.nasa.gov/spaceimages/?search=&category=Mars'\n",
    "browser.visit(url)\n",
    "\n",
    "browser.click_link_by_partial_text('FULL IMAGE')\n",
    "\n",
    "time.sleep(2)\n",
    "\n",
    "browser.click_link_by_partial_text('more info')\n",
    "\n",
    "time.sleep(1)\n",
    "\n",
    "html = browser.html\n",
    "soup = BeautifulSoup(html, 'html.parser')\n",
    "mars_image = soup.find(\"figure\", class_=\"lede\")\n",
    "#print(mars_image)\n",
    "mars_featured_image = mars_image.find(\"img\", class_=\"main_image\")\n",
    "mars_link = mars_featured_image[\"src\"]\n",
    "featured_image_link = [\"https://www.jpl.nasa.gov\" + (mars_link)]\n",
    "print(featured_image_link)\n",
    "browser.quit"
   ]
  },
  {
   "cell_type": "code",
   "execution_count": null,
   "metadata": {},
   "outputs": [],
   "source": []
  },
  {
   "cell_type": "markdown",
   "metadata": {},
   "source": [
    "# Mars Weather"
   ]
  },
  {
   "cell_type": "code",
   "execution_count": 8,
   "metadata": {},
   "outputs": [
    {
     "name": "stdout",
     "output_type": "stream",
     "text": [
      "InSight sol 132 (2019-04-10) low -97.7ºC (-143.8ºF) high -16.3ºC (2.7ºF)\n",
      "winds from the SW at 4.3 m/s (9.5 mph) gusting to 12.2 m/s (27.3 mph)\n",
      "pressure at 7.30 hPapic.twitter.com/lW713h6MMh\n"
     ]
    }
   ],
   "source": [
    "# URL of page to be scraped\n",
    "url = 'https://twitter.com/marswxreport?lang=en'\n",
    "# Retrieve page with the requests module\n",
    "response = requests.get(url)\n",
    "#print(response)\n",
    "\n",
    "# Create BeautifulSoup object; parse with 'html.parser'\n",
    "soup = BeautifulSoup(response.text, 'html.parser')\n",
    "\n",
    "# results are returned as an iterable list\n",
    "#results = soup.find_all('div', class_=\"image_and_description_container\")\n",
    "tw_mar_weather = soup.find_all('div', class_=\"js-tweet-text-container\")\n",
    "#print(results)\n",
    "\n",
    "sol = []\n",
    "for tweets in tw_mar_weather:\n",
    "    sols = tweets.find('p', class_=\"TweetTextSize TweetTextSize--normal js-tweet-text tweet-text\").text\n",
    "    sol.append(sols)\n",
    "    \n",
    "mars_weather = sol[0]\n",
    "print(mars_weather)"
   ]
  },
  {
   "cell_type": "code",
   "execution_count": null,
   "metadata": {},
   "outputs": [],
   "source": []
  },
  {
   "cell_type": "markdown",
   "metadata": {},
   "source": [
    "# Mars Facts"
   ]
  },
  {
   "cell_type": "code",
   "execution_count": 9,
   "metadata": {},
   "outputs": [
    {
     "data": {
      "text/plain": [
       "'<table border=\"1\" class=\"dataframe\">  <thead>    <tr style=\"text-align: right;\">      <th></th>      <th>Planet Description</th>    </tr>    <tr>      <th>Mars Planet Fact</th>      <th></th>    </tr>  </thead>  <tbody>    <tr>      <th>Equatorial Diameter:</th>      <td>6,792 km</td>    </tr>    <tr>      <th>Polar Diameter:</th>      <td>6,752 km</td>    </tr>    <tr>      <th>Mass:</th>      <td>6.42 x 10^23 kg (10.7% Earth)</td>    </tr>    <tr>      <th>Moons:</th>      <td>2 (Phobos &amp; Deimos)</td>    </tr>    <tr>      <th>Orbit Distance:</th>      <td>227,943,824 km (1.52 AU)</td>    </tr>    <tr>      <th>Orbit Period:</th>      <td>687 days (1.9 years)</td>    </tr>    <tr>      <th>Surface Temperature:</th>      <td>-153 to 20 °C</td>    </tr>    <tr>      <th>First Record:</th>      <td>2nd millennium BC</td>    </tr>    <tr>      <th>Recorded By:</th>      <td>Egyptian astronomers</td>    </tr>  </tbody></table>'"
      ]
     },
     "execution_count": 9,
     "metadata": {},
     "output_type": "execute_result"
    }
   ],
   "source": [
    "# URL of page to be scraped\n",
    "url = 'https://space-facts.com/mars/'\n",
    "# Retrieve page with the requests module\n",
    "response = requests.get(url)\n",
    "#print(response)\n",
    "\n",
    "tables = pd.read_html(url)\n",
    "tables\n",
    "\n",
    "type(tables)\n",
    "\n",
    "marsfacts_df = tables[0]\n",
    "marsfacts_df.columns = ['Mars Planet Fact', 'Planet Description']\n",
    "marsfacts_df.set_index('Mars Planet Fact', inplace=True)\n",
    "marsfacts_df\n",
    "\n",
    "html_table = marsfacts_df.to_html()\n",
    "html_table\n",
    "\n",
    "mars_facts = html_table.replace('\\n', '')\n",
    "mars_facts\n",
    "#df.to_html('table.html')\n",
    "\n",
    "#get_ipython().system('explorer table.html')"
   ]
  },
  {
   "cell_type": "code",
   "execution_count": null,
   "metadata": {},
   "outputs": [],
   "source": []
  },
  {
   "cell_type": "markdown",
   "metadata": {},
   "source": [
    "# Mars Hemispheres"
   ]
  },
  {
   "cell_type": "code",
   "execution_count": 10,
   "metadata": {},
   "outputs": [],
   "source": [
    "# URL of page to be scraped\n",
    "#url = 'https://astrogeology.usgs.gov/search/results?q=hemisphere+enhanced&k1=target&v1=Mars'\n",
    "url = 'https://astrogeology.usgs.gov/search/map/Mars/Viking/cerberus_enhanced'\n",
    "# Retrieve page with the requests module\n",
    "response = requests.get(url)\n",
    "#print(response)\n",
    "\n",
    "soup = BeautifulSoup(response.text, 'html.parser')"
   ]
  },
  {
   "cell_type": "code",
   "execution_count": 11,
   "metadata": {},
   "outputs": [
    {
     "name": "stdout",
     "output_type": "stream",
     "text": [
      "<img class=\"wide-image\" src=\"/cache/images/cfa62af2557222a02478f1fcd781d445_cerberus_enhanced.tif_full.jpg\"/>\n"
     ]
    }
   ],
   "source": [
    "cerberus_image = soup.find('img', class_=\"wide-image\")\n",
    "print(cerberus_image)"
   ]
  },
  {
   "cell_type": "code",
   "execution_count": 12,
   "metadata": {},
   "outputs": [
    {
     "name": "stdout",
     "output_type": "stream",
     "text": [
      "/cache/images/cfa62af2557222a02478f1fcd781d445_cerberus_enhanced.tif_full.jpg\n"
     ]
    }
   ],
   "source": [
    "cerberus_link = cerberus_image[\"src\"]\n",
    "print(cerberus_link)"
   ]
  },
  {
   "cell_type": "code",
   "execution_count": 13,
   "metadata": {},
   "outputs": [],
   "source": [
    "hem1 = soup.find('div', class_=\"container\")"
   ]
  },
  {
   "cell_type": "code",
   "execution_count": 14,
   "metadata": {},
   "outputs": [
    {
     "name": "stdout",
     "output_type": "stream",
     "text": [
      "Cerberus Hemisphere Enhanced\n"
     ]
    }
   ],
   "source": [
    "cerberus_title = soup.find('h2', class_=\"title\").text\n",
    "print(cerberus_title)"
   ]
  },
  {
   "cell_type": "code",
   "execution_count": 15,
   "metadata": {},
   "outputs": [],
   "source": [
    "#Find the Title and Search link for each of the hemispheres\n",
    "\n",
    "#\"div\", class_=\"item\"\n",
    "#\"a\", [href=link to the map]\n",
    "#browser.click on the H3 link\n",
    "#Once the link is opened under the href, then the image is under the ('img', class_=\"wide-image\")\n",
    "#browser.click_link_by_partial_text('OPEN')\n",
    "#browser.click_link_by_partial_text('BACK')\n",
    "\n",
    "#Under the div, class_collapsible_results, div class_item, select the <a href or div class_description for partial text"
   ]
  },
  {
   "cell_type": "code",
   "execution_count": 16,
   "metadata": {},
   "outputs": [],
   "source": [
    "# URL of page to be scraped\n",
    "url = 'https://astrogeology.usgs.gov/search/results?q=hemisphere+enhanced&k1=target&v1=Mars'\n",
    "# Retrieve page with the requests module\n",
    "response = requests.get(url)\n",
    "#print(response)\n",
    "soup = BeautifulSoup(response.text, 'html.parser')"
   ]
  },
  {
   "cell_type": "code",
   "execution_count": 17,
   "metadata": {},
   "outputs": [
    {
     "name": "stdout",
     "output_type": "stream",
     "text": [
      "['Cerberus Hemisphere Enhanced', 'Schiaparelli Hemisphere Enhanced', 'Syrtis Major Hemisphere Enhanced', 'Valles Marineris Hemisphere Enhanced']\n"
     ]
    }
   ],
   "source": [
    "hemispheres = soup.find_all('div', class_='item')\n",
    "\n",
    "hemisphere_title = []\n",
    "hemisphere_url_list = []\n",
    "for h in hemispheres:\n",
    "    h_title = h.find('h3').text\n",
    "    hemisphere_title.append(h_title)\n",
    "    h_url = h.find('a')['href']\n",
    "    hemisphere_url_list.append(h_url)\n",
    "\n",
    "print(hemisphere_title)\n",
    "#print(hemisphere_url_list)\n",
    "#print(hemisphere_title[0])"
   ]
  },
  {
   "cell_type": "code",
   "execution_count": 19,
   "metadata": {},
   "outputs": [],
   "source": [
    "#Use splinter to visit the pages and pull the images"
   ]
  },
  {
   "cell_type": "code",
   "execution_count": 20,
   "metadata": {},
   "outputs": [
    {
     "name": "stdout",
     "output_type": "stream",
     "text": [
      "[{'title': 'Cerberus Hemisphere Enhanced', 'img_url': 'https://astrogeology.usgs.gov/cache/images/cfa62af2557222a02478f1fcd781d445_cerberus_enhanced.tif_full.jpg'}]\n",
      "[{'title': 'Schiaparelli Hemisphere Enhanced', 'img_url': 'https://astrogeology.usgs.gov/cache/images/3cdd1cbf5e0813bba925c9030d13b62e_schiaparelli_enhanced.tif_full.jpg'}]\n",
      "[{'title': 'Syrtis Major Hemisphere Enhanced', 'img_url': 'https://astrogeology.usgs.gov/cache/images/ae209b4e408bb6c3e67b6af38168cf28_syrtis_major_enhanced.tif_full.jpg'}]\n",
      "[{'title': 'Valles Marineris Hemisphere Enhanced', 'img_url': 'https://astrogeology.usgs.gov/cache/images/7cf2da4bf549ed01c17f206327be4db7_valles_marineris_enhanced.tif_full.jpg'}]\n",
      "[{'title': 'Valles Marineris Hemisphere Enhanced', 'img_url': 'https://astrogeology.usgs.gov/cache/images/7cf2da4bf549ed01c17f206327be4db7_valles_marineris_enhanced.tif_full.jpg'}]\n"
     ]
    }
   ],
   "source": [
    "executable_path = {\"executable_path\": \"c:/Users/aa11717/Documents/chromedriver\"}\n",
    "browser = Browser(\"chrome\", **executable_path, headless=False)\n",
    "\n",
    "# URL of page to be scraped\n",
    "url = 'https://astrogeology.usgs.gov/search/results?q=hemisphere+enhanced&k1=target&v1=Mars'\n",
    "browser.visit(url)\n",
    "\n",
    "for i in hemisphere_title:\n",
    "    #print(i)\n",
    "    #for hem_title in hemisphere_title:\n",
    "    browser.click_link_by_partial_text(i)\n",
    "    browser.click_link_by_partial_text('Open')\n",
    "    html = browser.html\n",
    "    soup = BeautifulSoup(html, 'html.parser')\n",
    "    #soup = BeautifulSoup(response.text, 'html.parser')\n",
    "\n",
    "    #hem1 = soup.find('div', class_=\"container\")\n",
    "    cerberus_title = soup.find('h2', class_=\"title\").text\n",
    "    #print(cerberus_title)\n",
    "\n",
    "    cerberus_image = soup.find('img', class_=\"wide-image\")\n",
    "    #print(cerberus_image)\n",
    "    cerberus_link = cerberus_image['src']\n",
    "\n",
    "    # Store data in a dictionary\n",
    "    hemisphere_image_urls = [{\n",
    "        \"title\": cerberus_title,\n",
    "        \"img_url\": \"https://astrogeology.usgs.gov\" + (cerberus_link)}]\n",
    "\n",
    "    #print(cerberus_title, cerberus_link)\n",
    "    print(hemisphere_image_urls)\n",
    "\n",
    "    browser.click_link_by_partial_text('Close')\n",
    "    \n",
    "    time.sleep(3)\n",
    "    \n",
    "    browser.click_link_by_partial_text(\"Back\")\n",
    "\n",
    "print(hemisphere_image_urls)"
   ]
  },
  {
   "cell_type": "code",
   "execution_count": 21,
   "metadata": {},
   "outputs": [],
   "source": [
    "# #for hem_title in hemisphere_title:\n",
    "# browser.click_link_by_partial_text('Enhanced')\n",
    "# browser.click_link_by_partial_text('Open')\n",
    "# html = browser.html\n",
    "# soup = BeautifulSoup(html, 'html.parser')\n",
    "# #soup = BeautifulSoup(response.text, 'html.parser')\n",
    "\n",
    "# hem1 = soup.find('div', class_=\"container\")\n",
    "# cerberus_title = soup.find('h2', class_=\"title\").text\n",
    "# #print(cerberus_title)\n",
    "\n",
    "# cerberus_image = soup.find('img', class_=\"wide-image\")\n",
    "# #print(cerberus_image)\n",
    "# # cerberus_link = cerberus_image['src']\n",
    "\n",
    "# # Store data in a dictionary\n",
    "# hemisphere_image_urls = {\n",
    "#     \"title\": cerberus_title,\n",
    "#     \"img_url\": cerberus_link }\n",
    "\n",
    "# #print(cerberus_title, cerberus_link)\n",
    "# print(hemisphere_image_urls)\n",
    "\n",
    "# browser.click_link_by_partial_text('Close')"
   ]
  },
  {
   "cell_type": "code",
   "execution_count": null,
   "metadata": {},
   "outputs": [],
   "source": []
  }
 ],
 "metadata": {
  "kernelspec": {
   "display_name": "Python 3",
   "language": "python",
   "name": "python3"
  },
  "language_info": {
   "codemirror_mode": {
    "name": "ipython",
    "version": 3
   },
   "file_extension": ".py",
   "mimetype": "text/x-python",
   "name": "python",
   "nbconvert_exporter": "python",
   "pygments_lexer": "ipython3",
   "version": "3.6.7"
  }
 },
 "nbformat": 4,
 "nbformat_minor": 2
}
